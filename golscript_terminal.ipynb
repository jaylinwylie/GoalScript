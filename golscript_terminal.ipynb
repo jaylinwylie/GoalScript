{
 "cells": [
  {
   "cell_type": "code",
   "execution_count": 1,
   "id": "32c58c6de1cf594b",
   "metadata": {
    "ExecuteTime": {
     "end_time": "2024-12-04T00:20:40.473754Z",
     "start_time": "2024-12-04T00:20:40.470047Z"
    }
   },
   "outputs": [
    {
     "data": {
      "application/vnd.jupyter.widget-view+json": {
       "model_id": "196238eb2415448f87fe1ce8072acc1e",
       "version_major": 2,
       "version_minor": 0
      },
      "text/plain": [
       "Textarea(value='', layout=Layout(height='300px', width='99%'))"
      ]
     },
     "metadata": {},
     "output_type": "display_data"
    },
    {
     "data": {
      "application/vnd.jupyter.widget-view+json": {
       "model_id": "7806ef435933482a8ab83e65fe77e0a2",
       "version_major": 2,
       "version_minor": 0
      },
      "text/plain": [
       "Output(layout=Layout(height='100%', width='99%'))"
      ]
     },
     "metadata": {},
     "output_type": "display_data"
    }
   ],
   "source": [
    "import golscript_interface"
   ]
  },
  {
   "cell_type": "code",
   "execution_count": null,
   "id": "3f3d6d9d-b237-4884-9766-a94abe1ac6fe",
   "metadata": {},
   "outputs": [],
   "source": []
  },
  {
   "cell_type": "code",
   "execution_count": null,
   "id": "cd691061-432b-43d7-8395-cf5c51e06853",
   "metadata": {},
   "outputs": [],
   "source": []
  }
 ],
 "metadata": {
  "kernelspec": {
   "display_name": "Python 3 (ipykernel)",
   "language": "python",
   "name": "python3"
  },
  "language_info": {
   "codemirror_mode": {
    "name": "ipython",
    "version": 3
   },
   "file_extension": ".py",
   "mimetype": "text/x-python",
   "name": "python",
   "nbconvert_exporter": "python",
   "pygments_lexer": "ipython3",
   "version": "3.12.3"
  }
 },
 "nbformat": 4,
 "nbformat_minor": 5
}
